{
 "cells": [
  {
   "cell_type": "markdown",
   "metadata": {},
   "source": [
    "# Codon optimization for *Phaeodactylum tricornutum*"
   ]
  },
  {
   "cell_type": "markdown",
   "metadata": {},
   "source": [
    "### Latest update: 17 April 2020"
   ]
  },
  {
   "cell_type": "markdown",
   "metadata": {},
   "source": [
    "### Raffaela Abbriano (raffaela.abbriano@uts.edu.au)"
   ]
  },
  {
   "cell_type": "markdown",
   "metadata": {},
   "source": [
    "This code is designed to codon optomize sequences for expression in *Phaeodactylum tricornutum*. Multiple nucleotide sequences can be analyzed if included in one fasta file. Rare codons were determined if %frequency was less than 10% in at least one of the following: Plant codon usage database for *P. tricornutum* (http://www.kazusa.or.jp/codon/cgi-bin/showcodon.cgi?species=2850); Scala et al. *Plant Physiology* (2002) Supplemental Table IV; Montsant et al. *Plant Physiology* (2005) Supplemental Table IV. Rare codons are replaced with the most adundant codon for that amino acid in *P. tricornutum*. The number of substitutions made for each sequence is reported, and both original and modified sequences are translated and aligned to confirm that no change has been made to the amino acid sequence. New codon optimized nucleotide sequences appear in a new file 'results.fasta' in the same directory."
   ]
  },
  {
   "cell_type": "markdown",
   "metadata": {},
   "source": [
    "To run, replace the name of 'mysequences.fasta' with the name of your fasta file. Codons to be substituted can be changed by adding or removing them from the Ptcodons dictionary."
   ]
  },
  {
   "cell_type": "code",
   "execution_count": 5,
   "metadata": {
    "collapsed": true
   },
   "outputs": [],
   "source": [
    "#Import necessary libraries, requires Biopython package\n",
    "from Bio import SeqIO\n",
    "from Bio.SeqRecord import SeqRecord\n",
    "from Bio import pairwise2\n",
    "from Bio.pairwise2 import format_alignment"
   ]
  },
  {
   "cell_type": "code",
   "execution_count": 6,
   "metadata": {
    "collapsed": true
   },
   "outputs": [],
   "source": [
    "#Rare codon table\n",
    "Ptcodons = {\n",
    "    \"ATA\" : \"ATT\", \"CTA\" : \"CTC\", \"TTA\" : \"TTG\", \"AGA\" : \"CGT\", \n",
    "    \"AGG\" : \"CGT\", \"CGG\" : \"CGT\", \"TCA\" : \"TCC\", \"GGG\" : \"GGA\", \n",
    "    \"GTA\" : \"GTC\"\n",
    "}\n",
    "\n",
    "#DNA codon table\n",
    "protein = {\"TTT\" : \"F\", \"CTT\" : \"L\", \"ATT\" : \"I\", \"GTT\" : \"V\", \"TTC\" : \"F\", \"CTC\" : \"L\", \n",
    "           \"ATC\" : \"I\", \"GTC\" : \"V\", \"TTA\" : \"L\", \"CTA\" : \"L\", \"ATA\" : \"I\", \"GTA\" : \"V\", \n",
    "           \"TTG\" : \"L\", \"CTG\" : \"L\", \"ATG\" : \"M\", \"GTG\" : \"V\", \"TCT\" : \"S\", \"CCT\" : \"P\", \n",
    "           \"ACT\" : \"T\", \"GCT\" : \"A\", \"TCC\" : \"S\", \"CCC\" : \"P\", \"ACC\" : \"T\", \"GCC\" : \"A\",\n",
    "           \"TCA\" : \"S\", \"CCA\" : \"P\", \"ACA\" : \"T\", \"GCA\" : \"A\", \"TCG\" : \"S\", \"CCG\" : \"P\", \n",
    "           \"ACG\" : \"T\", \"GCG\" : \"A\", \"TAT\" : \"Y\", \"CAT\" : \"H\", \"AAT\" : \"N\", \"GAT\" : \"D\", \n",
    "           \"TAC\" : \"Y\", \"CAC\" : \"H\", \"AAC\" : \"N\", \"GAC\" : \"D\", \"TAA\" : \"*\", \"CAA\" : \"Q\", \n",
    "           \"AAA\" : \"K\", \"GAA\" : \"E\", \"TAG\" : \"*\", \"CAG\" : \"Q\", \"AAG\" : \"K\", \"GAG\" : \"E\",\n",
    "           \"TGT\" : \"C\", \"CGT\" : \"R\", \"AGT\" : \"S\", \"GGT\" : \"G\", \"TGC\" : \"C\", \"CGC\" : \"R\", \n",
    "           \"AGC\" : \"S\", \"GGC\" : \"G\", \"TGA\" : \"*\", \"CGA\" : \"R\", \"AGA\" : \"R\", \"GGA\" : \"G\", \n",
    "           \"TGG\" : \"W\", \"CGG\" : \"R\", \"AGG\" : \"R\", \"GGG\" : \"G\" \n",
    "}"
   ]
  },
  {
   "cell_type": "code",
   "execution_count": 8,
   "metadata": {
    "collapsed": false
   },
   "outputs": [],
   "source": [
    "#Make dictionary of sequences with Biopython, change input filename as needed\n",
    "record_dict = SeqIO.index('mysequences.fasta', 'fasta')\n",
    "\n",
    "with open('results.fasta', 'w') as f:\n",
    "    for record in record_dict:\n",
    "    \n",
    "        #Convert from byte (biopython format) to string type\n",
    "        dna_record = record_dict.get_raw(record)\n",
    "        decoded = dna_record.decode('ASCII')\n",
    "        decoded_split = decoded.split('\\n')\n",
    "        #First part of decoded sequence is the header, second part is the nucelotide sequence\n",
    "        dna_seq = decoded_split[1]\n",
    "        \n",
    "        #Set blank lists and counter\n",
    "        optimised = ''\n",
    "        translated = ''\n",
    "        optandtrans = ''\n",
    "        count = 0\n",
    "        \n",
    "        #For each codon, test if in Ptcodons; if yes replace w/ value, if no replace w/ self\n",
    "        for i in range(0, len(dna_seq)-(len(dna_seq)%3), 3):\n",
    "            sub_dna_seq = dna_seq[i:i+3]\n",
    "            if sub_dna_seq in Ptcodons:\n",
    "                #print(sub_dna_seq)\n",
    "                #print(Ptcodons[sub_dna_seq]) \n",
    "                sub_dna_seq = Ptcodons[sub_dna_seq]\n",
    "                optimised += sub_dna_seq\n",
    "                count = count + 1\n",
    "            else:\n",
    "                optimised += sub_dna_seq\n",
    "               \n",
    "            #Use DNA codon table to translate original and optimised sequences\n",
    "            translated += protein[dna_seq[i:i+3]]\n",
    "            optandtrans += protein[sub_dna_seq]\n",
    "            \n",
    "        #Quality control - check nucleotide and protein alignments\n",
    "        if dna_seq == optimised:\n",
    "            print(\"DNA sequences are identical, no substitutions were made.\")\n",
    "        else:\n",
    "            print(count,'codon subsitution(s) were made for sequence',decoded_split[0])\n",
    "            \n",
    "        if translated == optandtrans:\n",
    "            print('Translation of sequences are identical.')\n",
    "        else:\n",
    "            print('Check sequence translations, sequences do not match.')\n",
    "            \n",
    "        aa_alignments = pairwise2.align.globalxx(translated, optandtrans)\n",
    "        print(format_alignment(*aa_alignments[0]))\n",
    "\n",
    "        #Print new optimised sequences to output fasta file\n",
    "        print(decoded_split[0]+'_opt\\n'+optimised, file=f)\n",
    "        "
   ]
  },
  {
   "cell_type": "code",
   "execution_count": null,
   "metadata": {
    "collapsed": true
   },
   "outputs": [],
   "source": []
  }
 ],
 "metadata": {
  "anaconda-cloud": {},
  "kernelspec": {
   "display_name": "Python [default]",
   "language": "python",
   "name": "python3"
  },
  "language_info": {
   "codemirror_mode": {
    "name": "ipython",
    "version": 3
   },
   "file_extension": ".py",
   "mimetype": "text/x-python",
   "name": "python",
   "nbconvert_exporter": "python",
   "pygments_lexer": "ipython3",
   "version": "3.5.2"
  }
 },
 "nbformat": 4,
 "nbformat_minor": 2
}
