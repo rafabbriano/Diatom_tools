{
 "cells": [
  {
   "cell_type": "markdown",
   "metadata": {},
   "source": [
    "# Retrieve Phatr3 protein sequences"
   ]
  },
  {
   "cell_type": "markdown",
   "metadata": {},
   "source": [
    "### Latest update: 29 April 2020"
   ]
  },
  {
   "cell_type": "markdown",
   "metadata": {},
   "source": [
    "### Raffaela Abbriano (raffaela.abbriano@uts.edu.au)"
   ]
  },
  {
   "cell_type": "markdown",
   "metadata": {},
   "source": [
    "This code is designed to read in a list of Phatr3 protein IDs (supplied by you in a text file) and to return the protein sequences for those IDs in fasta format. It is compatible with the protein IDs from the Phaeodactylum tricornutum genome re-annotation available on EnsemblProtists. Protein sequences are derived from Phaeodactylum_tricornutum.ASM15095v2.pep.all.fa, which was downloaded from (https://protists.ensembl.org/Phaeodactylum_tricornutum/Info/Index) on April 24th, 2020. This code is customized for the Phatr3 annotation, but the basic code can be modified to retrieve sequences from any fasta file.\n",
    "\n",
    "To run, save your protein IDs in a text file - format should be Phatr3_XYZ, one ID per line (see my_ids.txt as an example). Results will be save in a new fasta file 'my_ids_aa.fasta' in the same directory."
   ]
  },
  {
   "cell_type": "code",
   "execution_count": 118,
   "metadata": {
    "collapsed": true
   },
   "outputs": [],
   "source": [
    "#Import necessary libraries, requires Biopython package\n",
    "from Bio import SeqIO"
   ]
  },
  {
   "cell_type": "code",
   "execution_count": 119,
   "metadata": {
    "collapsed": true
   },
   "outputs": [],
   "source": [
    "#Create an empty list\n",
    "lines = []   \n",
    "\n",
    "#Import the text file\n",
    "f = open('my_ids.txt', 'r').readlines()"
   ]
  },
  {
   "cell_type": "code",
   "execution_count": 120,
   "metadata": {
    "collapsed": false
   },
   "outputs": [
    {
     "name": "stdout",
     "output_type": "stream",
     "text": [
      "Searching for 3 protein sequences\n"
     ]
    }
   ],
   "source": [
    "#For each ID in the text file, remove leading/trailing characters and add to the list \n",
    "for line in f:\n",
    "    newid = line.strip()\n",
    "    lines.append((newid + '.p1')) #append .p1 to ID to make compatible with Phatr3 headers\n",
    "    \n",
    "#Print out how many IDs are being used as keys to pull sequences from the fasta file\n",
    "print('Searching for',len(lines),'protein sequences')"
   ]
  },
  {
   "cell_type": "code",
   "execution_count": 121,
   "metadata": {
    "collapsed": true
   },
   "outputs": [],
   "source": [
    "#Use set to create unordered set of unique ids and put them into a new list called mylist \n",
    "#Eliminates repeat IDs in text file\n",
    "myset =set(lines) \n",
    "mylist =list(myset)"
   ]
  },
  {
   "cell_type": "code",
   "execution_count": 122,
   "metadata": {
    "collapsed": true
   },
   "outputs": [],
   "source": [
    "#Create a dictionary from the Phatr3 annotation file \n",
    "pt_dict = SeqIO.index(\"Phaeodactylum_tricornutum.ASM15095v2.pep.all.fa\", \"fasta\") "
   ]
  },
  {
   "cell_type": "code",
   "execution_count": 123,
   "metadata": {
    "collapsed": true
   },
   "outputs": [],
   "source": [
    "outfilename = \"my_ids_aa.fasta\" #names the output file\n",
    "outfile = open(outfilename, \"ab\") #creates output file"
   ]
  },
  {
   "cell_type": "code",
   "execution_count": 124,
   "metadata": {
    "collapsed": false
   },
   "outputs": [],
   "source": [
    "#Loop over each of the headers in the results list and pulls out the aa sequence from the dictionary\n",
    "for PID in mylist:\n",
    "    outfile.write(pt_dict.get_raw(PID))"
   ]
  },
  {
   "cell_type": "code",
   "execution_count": 125,
   "metadata": {
    "collapsed": true
   },
   "outputs": [],
   "source": [
    "#Close output file\n",
    "outfile.close()"
   ]
  }
 ],
 "metadata": {
  "anaconda-cloud": {},
  "kernelspec": {
   "display_name": "Python [default]",
   "language": "python",
   "name": "python3"
  },
  "language_info": {
   "codemirror_mode": {
    "name": "ipython",
    "version": 3
   },
   "file_extension": ".py",
   "mimetype": "text/x-python",
   "name": "python",
   "nbconvert_exporter": "python",
   "pygments_lexer": "ipython3",
   "version": "3.5.2"
  }
 },
 "nbformat": 4,
 "nbformat_minor": 2
}
